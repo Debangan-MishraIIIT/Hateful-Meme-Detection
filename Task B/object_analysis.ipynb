{
 "cells": [
  {
   "cell_type": "code",
   "execution_count": 24,
   "metadata": {},
   "outputs": [],
   "source": [
    "import pandas as pd\n",
    "import numpy as np\n",
    "import os"
   ]
  },
  {
   "cell_type": "code",
   "execution_count": 25,
   "metadata": {},
   "outputs": [],
   "source": [
    "def make_object_detection(path):\n",
    "    with open(path) as f:\n",
    "        text= f.read()\n",
    "    maindict=[]\n",
    "    for val in text.split(\"\\n\"):\n",
    "        if(val==\"\"):\n",
    "            continue \n",
    "        dictv={}\n",
    "        dictv[\"file\"]=val.split(\",\")[0].strip()\n",
    "        dictv[\"label\"]= val.split(\",\")[1].strip()\n",
    "        dictv[\"confidence\"]= val.split(\",\")[2].strip()\n",
    "        dictv[\"box\"]=val.split(\"[\")[-1][:-1]\n",
    "        \n",
    "        maindict.append(dictv)\n",
    "    return pd.DataFrame(maindict)"
   ]
  },
  {
   "cell_type": "code",
   "execution_count": 26,
   "metadata": {},
   "outputs": [],
   "source": [
    "cropped_df= make_object_detection(\"../commons/detr_labels_cropped.txt\")\n",
    "original_df= make_object_detection(\"../commons/detr_labels_original.txt\")\n",
    "ns_df= make_object_detection(\"../commons/detr_labels_ns.txt\")\n",
    "telea_df= make_object_detection(\"../commons/detr_labels_telea.txt\")"
   ]
  },
  {
   "cell_type": "code",
   "execution_count": 27,
   "metadata": {},
   "outputs": [],
   "source": [
    "cropped_df_yolo= make_object_detection(\"../commons/yolo_labels_cropped.txt\")\n",
    "original_df_yolo= make_object_detection(\"../commons/yolo_labels_original.txt\")\n",
    "ns_df_yolo= make_object_detection(\"../commons/yolo_labels_ns.txt\")\n",
    "telea_df_yolo= make_object_detection(\"../commons/yolo_labels_telea.txt\")"
   ]
  },
  {
   "cell_type": "code",
   "execution_count": 28,
   "metadata": {},
   "outputs": [],
   "source": [
    "tempdf= []\n",
    "with open(\"../commons/crop_offset.txt\") as f:\n",
    "    text= f.read()\n",
    "for val in text.split(\"\\n\"):\n",
    "    if(val==\"\"):\n",
    "        continue\n",
    "    dictv={}\n",
    "    dictv[\"file\"]=os.path.basename(val.split(\", \")[0])\n",
    "    dictv[\"offset\"]=float(val.split(\", \")[1])\n",
    "    tempdf.append(dictv)\n",
    "tempdf=pd.DataFrame(tempdf)\n",
    "tdf= cropped_df.merge(tempdf)"
   ]
  },
  {
   "cell_type": "code",
   "execution_count": 29,
   "metadata": {},
   "outputs": [
    {
     "name": "stdout",
     "output_type": "stream",
     "text": [
      "107914 112302 118405 117258\n"
     ]
    }
   ],
   "source": [
    "#Unsurprisingly, the number of objects detected when cropped is significantly lesser\n",
    "#Yet with telea, the objects detected seem to be increasing, which does not seem correct\n",
    "#We need to have differences between the two inspected\n",
    "print(len(cropped_df), len(original_df), len(ns_df), len(telea_df))"
   ]
  },
  {
   "cell_type": "code",
   "execution_count": 30,
   "metadata": {},
   "outputs": [
    {
     "name": "stdout",
     "output_type": "stream",
     "text": [
      "original_df: 11815\n",
      "cropped_df: 11819\n",
      "ns_df: 11875\n",
      "telea_df: 11871\n"
     ]
    }
   ],
   "source": [
    "#number of files in which objects were detected\n",
    "print(f\"original_df: {len(original_df['file'].value_counts())}\")\n",
    "print(f\"cropped_df: {len(cropped_df['file'].value_counts())}\")\n",
    "print(f\"ns_df: {len(ns_df['file'].value_counts())}\")\n",
    "print(f\"telea_df: {len(telea_df['file'].value_counts())}\")"
   ]
  },
  {
   "cell_type": "code",
   "execution_count": 31,
   "metadata": {},
   "outputs": [
    {
     "name": "stdout",
     "output_type": "stream",
     "text": [
      "original_df: 11299\n",
      "cropped_df: 11379\n",
      "ns_df: 11455\n",
      "telea_df: 11468\n"
     ]
    }
   ],
   "source": [
    "#number of files in which objects were detected\n",
    "print(f\"original_df: {len(original_df_yolo['file'].value_counts())}\")\n",
    "print(f\"cropped_df: {len(cropped_df_yolo['file'].value_counts())}\")\n",
    "print(f\"ns_df: {len(ns_df_yolo['file'].value_counts())}\")\n",
    "print(f\"telea_df: {len(telea_df_yolo['file'].value_counts())}\")"
   ]
  },
  {
   "cell_type": "code",
   "execution_count": 32,
   "metadata": {},
   "outputs": [
    {
     "name": "stdout",
     "output_type": "stream",
     "text": [
      "9964\n",
      "11366\n",
      "10688\n",
      "10685\n"
     ]
    }
   ],
   "source": [
    "print(len(original_df_yolo[[float(val)>=0.8 for val in original_df_yolo[\"confidence\"]]]))\n",
    "print(len(cropped_df_yolo[[float(val)>=0.8 for val in cropped_df_yolo[\"confidence\"]]]))\n",
    "print(len(ns_df_yolo[[float(val)>=0.8 for val in ns_df_yolo[\"confidence\"]]]))\n",
    "print(len(telea_df_yolo[[float(val)>=0.8 for val in telea_df_yolo[\"confidence\"]]]))"
   ]
  },
  {
   "cell_type": "code",
   "execution_count": 33,
   "metadata": {},
   "outputs": [
    {
     "name": "stdout",
     "output_type": "stream",
     "text": [
      "47841\n",
      "45041\n",
      "48370\n",
      "48884\n"
     ]
    }
   ],
   "source": [
    "print(len(original_df[[float(val)>=0.8 for val in original_df[\"confidence\"]]]))\n",
    "print(len(cropped_df[[float(val)>=0.8 for val in cropped_df[\"confidence\"]]]))\n",
    "print(len(ns_df[[float(val)>=0.8 for val in ns_df[\"confidence\"]]]))\n",
    "print(len(telea_df[[float(val)>=0.8 for val in telea_df[\"confidence\"]]]))"
   ]
  },
  {
   "cell_type": "code",
   "execution_count": 34,
   "metadata": {},
   "outputs": [],
   "source": [
    "def find_area(arr):\n",
    "    if(arr[0]>arr[2] or arr[1]>arr[3]):\n",
    "        return 0\n",
    "    else:\n",
    "        return (arr[2]-arr[0])*(arr[3]-arr[1])\n",
    "\n",
    "def find_iou(str1, str2, offset):\n",
    "    arr1= [float(val) for val in str1.split(\",\")]\n",
    "    if(offset!=None):\n",
    "        arr1[1]+=offset\n",
    "        arr1[3]+=offset\n",
    "    arr2= [float(val) for val in str2.split(\",\")]\n",
    "    union=[min(arr1[0], arr2[0]), min(arr1[1], arr2[1]), max(arr1[2], arr2[2]), max(arr1[3], arr2[3])]\n",
    "    intersection=[max(arr1[0], arr2[0]), max(arr1[1], arr2[1]), min(arr1[2], arr2[2]), min(arr1[3], arr2[3])]\n",
    "    \n",
    "    if(find_area(union)!=0):\n",
    "        iou_val= (find_area(intersection)/find_area(union))\n",
    "    else:\n",
    "        iou_val=0\n",
    "    return iou_val\n",
    "\n",
    "def myfunc(e):\n",
    "    return e[1]\n",
    "\n",
    "def mean_val(arr):\n",
    "    if(len(arr)==0):\n",
    "        return 0\n",
    "    else:\n",
    "        return np.mean(arr)"
   ]
  },
  {
   "cell_type": "code",
   "execution_count": 35,
   "metadata": {},
   "outputs": [],
   "source": [
    "def calculate_metrics(dfo, dft):\n",
    "    #dfo is new, dft is original\n",
    "    temparr=[]\n",
    "    disappearance=[] #\n",
    "    confidence_inc= [] #\n",
    "    confidence_dec=[] #\n",
    "    iou_arr= [] #\n",
    "    label_change=[] #\n",
    "    appearance=[] #\n",
    "    \n",
    "    dict_info={}\n",
    "\n",
    "\n",
    "    for j in range(len(dft)):\n",
    "        maxval=0\n",
    "        maxarea=0\n",
    "        for i in range(len(dfo)):\n",
    "            # if(len(offset)!=0):\n",
    "            #     offset_ind= offset[j]\n",
    "            #     new_area= find_iou(dft.iloc[j].box, dfo.iloc[i].box, offset=offset_ind)\n",
    "            # else:\n",
    "            new_area= find_iou(dft.iloc[j].box, dfo.iloc[i].box, offset=None)\n",
    "            if(new_area>=maxarea):\n",
    "                maxarea=new_area\n",
    "                maxval=i \n",
    "        #having a 50% threshold for classifying things as same \n",
    "        if(maxarea>=0.5):\n",
    "            if(maxval not in dict_info):\n",
    "                dict_info[maxval]=[]\n",
    "            dict_info[maxval].append((j, maxarea))\n",
    "            dict_info[maxval].sort(reverse=True, key=myfunc)\n",
    "        else:\n",
    "            temparr.append([(j, maxarea)])\n",
    "\n",
    "    for val in dict_info.values():\n",
    "        if(len(val)>=2):\n",
    "            temparr.append(val[1:])\n",
    "\n",
    "    for arr in temparr:\n",
    "        for tup in arr:\n",
    "            disappearance.append(float(dft.iloc[tup[0]].confidence))\n",
    "\n",
    "    for i in range(len(dfo)):\n",
    "        if(i not in dict_info):\n",
    "            appearance.append(float(dfo.iloc[i].confidence))\n",
    "\n",
    "    for dfo_ind in dict_info.keys():\n",
    "        dft_ind= dict_info[dfo_ind][0][0]\n",
    "        iou_arr.append(dict_info[dfo_ind][0][1])\n",
    "        label1= dfo.iloc[dfo_ind].label\n",
    "        label2= dft.iloc[dft_ind].label\n",
    "        if(label1==label2):\n",
    "            conf= float(dfo.iloc[dfo_ind].confidence) - float(dft.iloc[dft_ind].confidence)\n",
    "            #equality of confidence in same thing will not be significant\n",
    "            if(conf>0):\n",
    "                confidence_inc.append(conf)\n",
    "            elif(conf<0):\n",
    "                confidence_dec.append(-conf)\n",
    "        else:\n",
    "            label_change.append(float(dfo.iloc[dfo_ind].confidence) + float(dft.iloc[dft_ind].confidence))\n",
    "\n",
    "    return(mean_val(appearance), mean_val(disappearance), mean_val(confidence_inc), mean_val(confidence_dec), mean_val(iou_arr), mean_val(label_change)) "
   ]
  },
  {
   "cell_type": "code",
   "execution_count": 36,
   "metadata": {},
   "outputs": [],
   "source": [
    "#TEMPORARILY ALTERED \n",
    "# if(len(offset)!=0):\n",
    "#     offset_ind= offset[j]\n",
    "#     new_area= find_iou(dft.iloc[j].box, dfo.iloc[i].box, offset=offset_ind)\n",
    "# else:\n",
    "#     new_area= find_iou(dft.iloc[j].box, dfo.iloc[i].box, offset=None)\n",
    "\n",
    "# main_dict_crop=[]\n",
    "# for file in original_df['file'].value_counts().keys():\n",
    "#     dfo= original_df[original_df['file']==file]\n",
    "#     dft= tdf[tdf['file']==file]\n",
    "#     tempdict={}\n",
    "#     tempdict[\"file\"]=file\n",
    "#     offset_arr= tdf[\"offset\"]\n",
    "#     tempdict[\"appearance\"], tempdict[\"disappearance\"], tempdict[\"confidence_inc\"], tempdict[\"confidence_dec\"], tempdict[\"iou_arr\"], tempdict[\"label_change\"]=calculate_metrics(dfo, dft, offset_arr)\n",
    "#     main_dict_crop.append(tempdict)"
   ]
  },
  {
   "cell_type": "code",
   "execution_count": 38,
   "metadata": {},
   "outputs": [],
   "source": [
    "main_dict_telea=[]\n",
    "for file in original_df_yolo['file'].value_counts().keys():\n",
    "    dfo= original_df_yolo[original_df_yolo['file']==file]\n",
    "    dft= telea_df_yolo[telea_df_yolo['file']==file]\n",
    "    tempdict={}\n",
    "    tempdict[\"file\"]=file\n",
    "    tempdict[\"appearance\"], tempdict[\"disappearance\"], tempdict[\"confidence_inc\"], tempdict[\"confidence_dec\"], tempdict[\"iou_arr\"], tempdict[\"label_change\"]=calculate_metrics(dfo, dft)\n",
    "    main_dict_telea.append(tempdict)"
   ]
  },
  {
   "cell_type": "code",
   "execution_count": null,
   "metadata": {},
   "outputs": [],
   "source": [
    "main_dict_ns=[]\n",
    "for file in original_df_yolo['file'].value_counts().keys():\n",
    "    dfo= original_df_yolo[original_df_yolo['file']==file]\n",
    "    dft= ns_df_yolo[ns_df_yolo['file']==file]\n",
    "    tempdict={}\n",
    "    tempdict[\"file\"]=file\n",
    "    tempdict[\"appearance\"], tempdict[\"disappearance\"], tempdict[\"confidence_inc\"], tempdict[\"confidence_dec\"], tempdict[\"iou_arr\"], tempdict[\"label_change\"]=calculate_metrics(dfo, dft)\n",
    "    main_dict_ns.append(tempdict)"
   ]
  },
  {
   "cell_type": "code",
   "execution_count": null,
   "metadata": {},
   "outputs": [],
   "source": [
    "df_telea_origin_yolo= pd.DataFrame(main_dict_telea)\n",
    "df_ns_origin_yolo= pd.DataFrame(main_dict_ns)\n",
    "# df_crop_origin= pd.DataFrame(main_dict_crop)"
   ]
  }
 ],
 "metadata": {
  "kernelspec": {
   "display_name": "Python 3",
   "language": "python",
   "name": "python3"
  },
  "language_info": {
   "codemirror_mode": {
    "name": "ipython",
    "version": 3
   },
   "file_extension": ".py",
   "mimetype": "text/x-python",
   "name": "python",
   "nbconvert_exporter": "python",
   "pygments_lexer": "ipython3",
   "version": "3.12.1"
  }
 },
 "nbformat": 4,
 "nbformat_minor": 2
}
