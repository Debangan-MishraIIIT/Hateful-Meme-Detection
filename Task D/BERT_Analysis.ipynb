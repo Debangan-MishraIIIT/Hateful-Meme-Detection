{
 "cells": [
  {
   "cell_type": "code",
   "execution_count": 1,
   "metadata": {},
   "outputs": [],
   "source": [
    "import pandas as pd\n",
    "import numpy as np\n",
    "import pickle\n",
    "from torch.utils.data import Dataset, DataLoader\n",
    "import torch \n",
    "import torch.nn as nn \n",
    "from sklearn import metrics\n",
    "import matplotlib.pyplot as plt"
   ]
  },
  {
   "cell_type": "code",
   "execution_count": 2,
   "metadata": {},
   "outputs": [],
   "source": [
    "with open(\"./BERT_data/non_offensive_text.pkl\", \"rb\") as f:\n",
    "    non_off_txt= pickle.load(f)\n",
    "    \n",
    "with open(\"./BERT_data/offensive_text.pkl\", \"rb\") as f:\n",
    "    off_txt= pickle.load(f)\n",
    "    \n",
    "with open(\"./BERT_data/non_offensive_desc.pkl\", \"rb\") as f:\n",
    "    non_off_desc= pickle.load(f)\n",
    "    \n",
    "with open(\"./BERT_data/offensive_desc.pkl\", \"rb\") as f:\n",
    "    off_desc= pickle.load(f)\n",
    "    \n",
    "with open(\"./BERT_data/non_text_test.pkl\", \"rb\") as f:\n",
    "    non_off_txt_test= pickle.load(f)\n",
    "    \n",
    "with open(\"./BERT_data/off_text_test.pkl\", \"rb\") as f:\n",
    "    off_txt_test= pickle.load(f)\n",
    "    \n",
    "with open(\"./BERT_data/non_desc_test.pkl\", \"rb\") as f:\n",
    "    non_off_desc_test= pickle.load(f)\n",
    "    \n",
    "with open(\"./BERT_data/off_desc_test.pkl\", \"rb\") as f:\n",
    "    off_desc_test= pickle.load(f)"
   ]
  },
  {
   "cell_type": "code",
   "execution_count": 3,
   "metadata": {},
   "outputs": [],
   "source": [
    "for i in range(len(non_off_txt)):\n",
    "    non_off_txt[i]= non_off_txt[i].detach().numpy() \n",
    "    off_txt[i]= off_txt[i].detach().numpy() \n",
    "    non_off_desc[i]=non_off_desc[i].detach().numpy() \n",
    "    off_desc[i]= off_desc[i].detach().numpy() \n",
    "    \n",
    "for i in range(len(non_off_txt_test)):\n",
    "    non_off_txt_test[i]= non_off_txt_test[i].detach().numpy() \n",
    "    off_txt_test[i]= off_txt_test[i].detach().numpy() \n",
    "    non_off_desc_test[i]=non_off_desc_test[i].detach().numpy() \n",
    "    off_desc_test[i]=off_desc_test[i].detach().numpy() "
   ]
  },
  {
   "cell_type": "code",
   "execution_count": 4,
   "metadata": {},
   "outputs": [
    {
     "name": "stdout",
     "output_type": "stream",
     "text": [
      "(500, 1, 1536)\n"
     ]
    }
   ],
   "source": [
    "non_off_txt= np.array(non_off_txt)\n",
    "off_txt= np.array(off_txt)\n",
    "non_off_desc=np.array(non_off_desc)\n",
    "off_desc=np.array(off_desc)\n",
    "stacked_array = np.vstack([non_off_txt, off_txt])\n",
    "stacked_array2 = np.vstack([non_off_desc, off_desc])\n",
    "final_train = np.concatenate([stacked_array.reshape(2000, 1, -1), stacked_array2.reshape(2000, 1, -1)], axis=2)\n",
    "\n",
    "non_off_txt_test= np.array(non_off_txt_test)\n",
    "off_txt_test= np.array(off_txt_test)\n",
    "non_off_desc_test= np.array(non_off_desc_test)\n",
    "off_desc_test= np.array(off_desc_test) \n",
    "stacked_array_test = np.vstack([non_off_txt_test, off_txt_test])\n",
    "stacked_array_test2 = np.vstack([non_off_desc_test, off_desc_test])\n",
    "final_test = np.concatenate([stacked_array_test.reshape(500, 1, -1), stacked_array_test2.reshape(500, 1, -1)], axis=2)\n",
    "print(final_test.shape)"
   ]
  },
  {
   "cell_type": "code",
   "execution_count": 5,
   "metadata": {},
   "outputs": [],
   "source": [
    "class MyDataset(Dataset):\n",
    "    def __init__(self, data, labels):\n",
    "        self.data = data\n",
    "        self.labels = labels\n",
    "\n",
    "    def __len__(self):\n",
    "        return len(self.data)\n",
    "\n",
    "    def __getitem__(self, idx):\n",
    "        sample = {'data': self.data[idx], 'label': self.labels[idx]}\n",
    "        return sample"
   ]
  },
  {
   "cell_type": "code",
   "execution_count": 6,
   "metadata": {},
   "outputs": [],
   "source": [
    "data = [] \n",
    "labels = [0] * len(non_off_txt)+[1]*len(off_txt)\n",
    "labels_test = [0] * len(non_off_txt_test)+[1]*len(off_txt_test)\n",
    "dataset = MyDataset(final_train, labels)\n",
    "dataset_test = MyDataset(final_test, labels_test)"
   ]
  },
  {
   "cell_type": "code",
   "execution_count": 7,
   "metadata": {},
   "outputs": [],
   "source": [
    "batch_size = 32\n",
    "train_loader = DataLoader(dataset, batch_size=batch_size, shuffle=True)\n",
    "test_loader = DataLoader(dataset_test, batch_size=batch_size, shuffle=True)"
   ]
  },
  {
   "cell_type": "code",
   "execution_count": 8,
   "metadata": {},
   "outputs": [],
   "source": [
    "torch.manual_seed(43)\n",
    "np.random.seed(43)\n",
    "\n",
    "class RNNmodel(nn.Module):\n",
    "    def __init__(self, input_dim, hidden_dim, output_dim, num_layers, dropout=0.5):\n",
    "        super(RNNmodel, self).__init__()\n",
    "        self.input_dim = input_dim\n",
    "        self.hidden_dim = hidden_dim\n",
    "        self.output_dim = output_dim\n",
    "        self.num_layers= num_layers\n",
    "        self.layer_norm = nn.LayerNorm(hidden_dim)\n",
    "        \n",
    "        self.rnn = nn.RNN(input_size=input_dim, hidden_size=hidden_dim, num_layers=num_layers, batch_first=True)\n",
    "        self.fc = nn.Linear(hidden_dim, output_dim) \n",
    "    \n",
    "    def forward(self, x):\n",
    "        batch_size = x.size(0)\n",
    "        hidden = torch.zeros(self.num_layers, batch_size, self.hidden_dim)\n",
    "        out, _ = self.rnn(x, hidden)\n",
    "        out = out[:, -1, :]\n",
    "        out = self.fc(out)\n",
    "        return out\n",
    "    \n",
    "model = RNNmodel(1536, 128, 2, 2)\n",
    "lr= 1e-4\n",
    "num_epoch= 50\n",
    "criterion = nn.CrossEntropyLoss()\n",
    "optimizer = torch.optim.SGD(model.parameters(), lr=lr)"
   ]
  },
  {
   "cell_type": "code",
   "execution_count": 9,
   "metadata": {},
   "outputs": [
    {
     "name": "stdout",
     "output_type": "stream",
     "text": [
      "Epoch: 1/50 - Train Loss: 0.7086 - Test Loss: 0.7138\n",
      "Epoch: 2/50 - Train Loss: 0.7043 - Test Loss: 0.7081\n",
      "Epoch: 3/50 - Train Loss: 0.7012 - Test Loss: 0.7057\n",
      "Epoch: 4/50 - Train Loss: 0.6987 - Test Loss: 0.7027\n",
      "Epoch: 5/50 - Train Loss: 0.6968 - Test Loss: 0.7008\n",
      "Epoch: 6/50 - Train Loss: 0.6951 - Test Loss: 0.6997\n",
      "Epoch: 7/50 - Train Loss: 0.6934 - Test Loss: 0.6979\n",
      "Epoch: 8/50 - Train Loss: 0.6928 - Test Loss: 0.6977\n",
      "Epoch: 9/50 - Train Loss: 0.6919 - Test Loss: 0.6972\n",
      "Epoch: 10/50 - Train Loss: 0.6913 - Test Loss: 0.6969\n",
      "Epoch: 11/50 - Train Loss: 0.6910 - Test Loss: 0.6967\n",
      "Epoch: 12/50 - Train Loss: 0.6905 - Test Loss: 0.6960\n",
      "Epoch: 13/50 - Train Loss: 0.6897 - Test Loss: 0.6960\n",
      "Epoch: 14/50 - Train Loss: 0.6895 - Test Loss: 0.6952\n",
      "Epoch: 15/50 - Train Loss: 0.6894 - Test Loss: 0.6946\n",
      "Epoch: 16/50 - Train Loss: 0.6889 - Test Loss: 0.6956\n",
      "Epoch: 17/50 - Train Loss: 0.6887 - Test Loss: 0.6951\n",
      "Epoch: 18/50 - Train Loss: 0.6885 - Test Loss: 0.6950\n",
      "Epoch: 19/50 - Train Loss: 0.6881 - Test Loss: 0.6948\n",
      "Epoch: 20/50 - Train Loss: 0.6880 - Test Loss: 0.6952\n",
      "Epoch: 21/50 - Train Loss: 0.6875 - Test Loss: 0.6951\n",
      "Epoch: 22/50 - Train Loss: 0.6874 - Test Loss: 0.6952\n",
      "Epoch: 23/50 - Train Loss: 0.6871 - Test Loss: 0.6947\n",
      "Epoch: 24/50 - Train Loss: 0.6869 - Test Loss: 0.6946\n",
      "Epoch: 25/50 - Train Loss: 0.6865 - Test Loss: 0.6949\n",
      "Epoch: 26/50 - Train Loss: 0.6863 - Test Loss: 0.6947\n",
      "Epoch: 27/50 - Train Loss: 0.6861 - Test Loss: 0.6947\n",
      "Epoch: 28/50 - Train Loss: 0.6860 - Test Loss: 0.6947\n",
      "Epoch: 29/50 - Train Loss: 0.6858 - Test Loss: 0.6943\n",
      "Epoch: 30/50 - Train Loss: 0.6853 - Test Loss: 0.6941\n",
      "Epoch: 31/50 - Train Loss: 0.6852 - Test Loss: 0.6949\n",
      "Epoch: 32/50 - Train Loss: 0.6851 - Test Loss: 0.6945\n",
      "Epoch: 33/50 - Train Loss: 0.6848 - Test Loss: 0.6940\n",
      "Epoch: 34/50 - Train Loss: 0.6847 - Test Loss: 0.6943\n",
      "Epoch: 35/50 - Train Loss: 0.6841 - Test Loss: 0.6945\n",
      "Epoch: 36/50 - Train Loss: 0.6841 - Test Loss: 0.6947\n",
      "Epoch: 37/50 - Train Loss: 0.6839 - Test Loss: 0.6947\n",
      "Epoch: 38/50 - Train Loss: 0.6837 - Test Loss: 0.6947\n",
      "Epoch: 39/50 - Train Loss: 0.6836 - Test Loss: 0.6944\n",
      "Epoch: 40/50 - Train Loss: 0.6831 - Test Loss: 0.6941\n",
      "Epoch: 41/50 - Train Loss: 0.6830 - Test Loss: 0.6940\n",
      "Epoch: 42/50 - Train Loss: 0.6830 - Test Loss: 0.6945\n",
      "Epoch: 43/50 - Train Loss: 0.6827 - Test Loss: 0.6946\n",
      "Epoch: 44/50 - Train Loss: 0.6822 - Test Loss: 0.6955\n",
      "Epoch: 45/50 - Train Loss: 0.6822 - Test Loss: 0.6939\n",
      "Epoch: 46/50 - Train Loss: 0.6817 - Test Loss: 0.6942\n",
      "Epoch: 47/50 - Train Loss: 0.6815 - Test Loss: 0.6941\n",
      "Epoch: 48/50 - Train Loss: 0.6815 - Test Loss: 0.6942\n",
      "Epoch: 49/50 - Train Loss: 0.6815 - Test Loss: 0.6938\n",
      "Epoch: 50/50 - Train Loss: 0.6811 - Test Loss: 0.6946\n"
     ]
    }
   ],
   "source": [
    "train_loss=[]\n",
    "test_loss=[]\n",
    "\n",
    "for epoch in range(1, num_epoch+1):\n",
    "    total_loss = 0\n",
    "    for batch in train_loader:\n",
    "        X= batch[\"data\"]\n",
    "        y= batch[\"label\"]\n",
    "        optimizer.zero_grad() \n",
    "        X = X.float()\n",
    "        output = model(X)\n",
    "        loss = criterion(output, y)\n",
    "        total_loss += loss.item()\n",
    "        loss.backward()\n",
    "        optimizer.step()    \n",
    "    total_loss /= len(train_loader)\n",
    "        \n",
    "    total_test_loss=0\n",
    "    with torch.no_grad():  # Disable gradient calculation during testing\n",
    "        for batch in test_loader:\n",
    "            X_test = batch[\"data\"]\n",
    "            y_test = batch[\"label\"]\n",
    "            X_test = X_test.float()\n",
    "            output_test = model(X_test)\n",
    "            loss_test = criterion(output_test, y_test)\n",
    "            total_test_loss += loss_test.item()\n",
    "    total_test_loss /= len(test_loader)\n",
    "    \n",
    "    train_loss.append(total_loss)\n",
    "    test_loss.append(total_test_loss)\n",
    "    \n",
    "    # Print training and testing loss\n",
    "    print('Epoch: {}/{} - Train Loss: {:.4f} - Test Loss: {:.4f}'.format(epoch, num_epoch, total_loss, total_test_loss))\n",
    "\n"
   ]
  },
  {
   "cell_type": "code",
   "execution_count": 10,
   "metadata": {},
   "outputs": [
    {
     "data": {
      "image/png": "[encoded data removed]",
      "text/plain": [
       "<Figure size 640x480 with 1 Axes>"
      ]
     },
     "metadata": {},
     "output_type": "display_data"
    }
   ],
   "source": [
    "plt.plot(range(len(train_loss)), train_loss, label=\"train loss\")\n",
    "plt.plot(range(len(test_loss)), test_loss, label=\"test loss\")\n",
    "plt.legend()\n",
    "plt.title(\"Losses\")\n",
    "plt.xlabel(\"Epochs\")\n",
    "plt.ylabel(\"Loss Value\")\n",
    "plt.show()"
   ]
  },
  {
   "cell_type": "code",
   "execution_count": 11,
   "metadata": {},
   "outputs": [],
   "source": [
    "y_pred= model(torch.tensor(final_test).float())"
   ]
  },
  {
   "cell_type": "code",
   "execution_count": 12,
   "metadata": {},
   "outputs": [
    {
     "name": "stdout",
     "output_type": "stream",
     "text": [
      "0.648 0.5175718849840255 0.5234918248449539 0.522\n"
     ]
    }
   ],
   "source": [
    "print(metrics.precision_score((torch.max(y_pred, dim=1)[1]).detach().numpy(), labels_test),\n",
    "metrics.recall_score((torch.max(y_pred, dim=1)[1]).detach().numpy(), labels_test),\n",
    "metrics.roc_auc_score((torch.max(y_pred, dim=1)[1]).detach().numpy(), labels_test),\n",
    "metrics.accuracy_score((torch.max(y_pred, dim=1)[1]).detach().numpy(), labels_test))"
   ]
  },
  {
   "cell_type": "markdown",
   "metadata": {},
   "source": [
    "In conclusion, we observe:\n",
    "1. Using BERT embeddings for sentences would be better in larger scale projects because it would enable sentence embeddings in lesser dimensions. We will not need a huge vocabulary for representation purposes. Pretrained BERT will also help in understanding more semantic embeddings of the text.\n",
    "2. This model- which uses a concatenation of original caption along with a generated description, is able to give a good balance of precision and recall- something that was missing in other models, but has an average AUROC and accuracy score. \n",
    "3. Potential scope of improvement would be to generate image text similarity of the image with the original caption and the generated description and accordingly scale the embeddings. Must be explored if possible.\n",
    "4. Seed 43 seems to give good results with the graphing, but most other seeds follow the same pattern- both descreasing with epochs for SGD, with lr set to 1e-4. "
   ]
  }
 ],
 "metadata": {
  "kernelspec": {
   "display_name": "Python 3",
   "language": "python",
   "name": "python3"
  },
  "language_info": {
   "codemirror_mode": {
    "name": "ipython",
    "version": 3
   },
   "file_extension": ".py",
   "mimetype": "text/x-python",
   "name": "python",
   "nbconvert_exporter": "python",
   "pygments_lexer": "ipython3",
   "version": "3.12.1"
  }
 },
 "nbformat": 4,
 "nbformat_minor": 2
}
