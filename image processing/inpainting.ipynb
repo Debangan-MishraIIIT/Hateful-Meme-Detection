{
 "cells": [
  {
   "cell_type": "code",
   "execution_count": 2,
   "metadata": {},
   "outputs": [],
   "source": [
    "import os\n",
    "import cv2\n",
    "import numpy as np\n",
    "import PIL\n",
    "import easyocr\n",
    "reader = easyocr.Reader(['en'])"
   ]
  },
  {
   "cell_type": "code",
   "execution_count": 59,
   "metadata": {},
   "outputs": [],
   "source": [
    "def create_and_save_mask(image_path, save_path):\n",
    "    result = reader.readtext(image_path)\n",
    "    img = cv2.imread(image_path)\n",
    "    mask = np.zeros((img.shape[0], img.shape[1]), dtype=np.uint8)\n",
    "    \n",
    "    for res in result:\n",
    "        coords = np.array(res[0])\n",
    "        mins = np.min(coords, axis=0)\n",
    "        maxs = np.max(coords, axis=0)\n",
    "        mask[int(mins[1]):int(maxs[1]), int(mins[0]):int(maxs[0])] = 255\n",
    "    \n",
    "    cv2.imwrite(save_path, mask)"
   ]
  },
  {
   "cell_type": "code",
   "execution_count": 60,
   "metadata": {},
   "outputs": [],
   "source": [
    "for base in os.listdir(\"../../hateful_memes/img/\"):\n",
    "    try:\n",
    "        image_path = f\"../../hateful_memes/img/{base}\"\n",
    "        save_path = f\"../modified_images/temp/mask_{base}\"\n",
    "        create_and_save_mask(image_path, save_path)\n",
    "        \n",
    "        img = cv2.imread(f'../../hateful_memes/img/{base}')\n",
    "        mask = cv2.imread(f'../temp/mask_{base}', 0)\n",
    "        dst = cv2.inpaint(img, mask, 5, cv2.INPAINT_TELEA)\n",
    "        cv2.imwrite(f'../modified_images/telea/{base}', dst)\n",
    "        \n",
    "        dst2 = cv2.inpaint(img, mask, 5, cv2.INPAINT_NS)\n",
    "        cv2.imwrite(f'../modified_images/ns/{base}', dst2)\n",
    "    except Exception as e:\n",
    "        print(e, base)\n",
    "        "
   ]
  },
  {
   "cell_type": "code",
   "execution_count": 4,
   "metadata": {},
   "outputs": [
    {
     "name": "stdout",
     "output_type": "stream",
     "text": [
      "12140 12140 12140\n"
     ]
    }
   ],
   "source": [
    "print(len(os.listdir(\"../modified_images/temp\")),\n",
    "len(os.listdir(\"../modified_images/ns\")),\n",
    "len(os.listdir(\"../modified_images/telea\")))"
   ]
  }
 ],
 "metadata": {
  "kernelspec": {
   "display_name": "Python 3",
   "language": "python",
   "name": "python3"
  },
  "language_info": {
   "codemirror_mode": {
    "name": "ipython",
    "version": 3
   },
   "file_extension": ".py",
   "mimetype": "text/x-python",
   "name": "python",
   "nbconvert_exporter": "python",
   "pygments_lexer": "ipython3",
   "version": "3.12.1"
  }
 },
 "nbformat": 4,
 "nbformat_minor": 2
}
